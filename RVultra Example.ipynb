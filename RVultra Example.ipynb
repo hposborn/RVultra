{
 "cells": [
  {
   "cell_type": "markdown",
   "id": "8dedaa5e-5984-4754-b967-f48a1c702087",
   "metadata": {},
   "source": [
    "# Example using G 75-21"
   ]
  },
  {
   "cell_type": "code",
   "execution_count": 1,
   "id": "ed1c5e39-6621-4b13-9741-3cf3fe33e2df",
   "metadata": {},
   "outputs": [
    {
     "name": "stderr",
     "output_type": "stream",
     "text": [
      "/Users/hugh/miniconda3/envs/radvelnest/lib/python3.9/site-packages/radvel/gp.py:32: ImportWarning: celerite not installed. GP kernals using celerite will not work. Try installing celerite using 'pip install celerite'\n",
      "  warnings.warn(\"celerite not installed. GP kernals using celerite will not work. \\\n"
     ]
    }
   ],
   "source": [
    "%load_ext autoreload\n",
    "%autoreload 2\n",
    "    \n",
    "from RVultra import RVultra, tools\n",
    "import ultranest\n",
    "import numpy as np\n",
    "import pandas as pd"
   ]
  },
  {
   "cell_type": "markdown",
   "id": "b215fada-27f9-4fb6-88e2-e6f9a807e6ab",
   "metadata": {},
   "source": [
    "### Initialising the model\n",
    "\n",
    "This is where key decisions about the model should be stored:\n",
    "\n",
    "- Prior on semi-amplitude, `kprior` ('log' or 'linear')\n",
    "- Prior on RV jitter, `jitterprior` ('log', 'linear', or None which follows the `kprior`)\n",
    "- Prior on eccentricity, `ecc_prior` ('kipping', 'vaneylen', or None, which decides which one to use based on multiplicity)\n",
    "- Whether to fit curvature, `fit_curv`\n",
    "- Whether to fit a circular model, `fit_circ`, though this can also be selected specifically for individual planets\n",
    "- The folder in which to store everything, `outfileloc`"
   ]
  },
  {
   "cell_type": "code",
   "execution_count": 2,
   "id": "523ca70c-3453-4b07-b3a6-c2dde62f2210",
   "metadata": {},
   "outputs": [],
   "source": [
    "lik=RVultra.Vector_PlanetLikelihood(name=\"G 75-21\", kprior='log', fit_curv=True, fit_circ=False, outfileloc=\"G75-21\")\n",
    "                                    "
   ]
  },
  {
   "cell_type": "markdown",
   "id": "277c14d1-8bf0-4c1b-820b-099c2c85553b",
   "metadata": {},
   "source": [
    "## Adding stellar parameters:"
   ]
  },
  {
   "cell_type": "code",
   "execution_count": 3,
   "id": "07353283-ca70-4e70-9e4d-4b68b3411907",
   "metadata": {},
   "outputs": [],
   "source": [
    "lik.add_starpars(Ms=0.755, Rs=0.781)"
   ]
  },
  {
   "cell_type": "markdown",
   "id": "cf26eb5b-2ad9-46a8-ad03-e49094a9c3ea",
   "metadata": {},
   "source": [
    "## Adding various RV data:\n",
    "\n",
    "There's a tonne of extra support for opening RV files in `tools`"
   ]
  },
  {
   "cell_type": "code",
   "execution_count": 4,
   "id": "6bf9d9b9-153a-4c34-ab8b-83558bf81c1a",
   "metadata": {},
   "outputs": [
    {
     "name": "stdout",
     "output_type": "stream",
     "text": [
      "SOPHIE G75-21/SophieRVs_TOI4317.csv\n",
      "COR G75-21/TIC422914082_COR14_DRS-3-8.rdb\n",
      "HARPS G75-21/TIC422914082_HARPS15_DRS-3-0-0.rdb\n",
      "HARPS-N G75-21/TOI-4317_harpn_drs.rdb\n"
     ]
    }
   ],
   "source": [
    "sophdat, name = tools.extract_rvfile(\"G75-21/SophieRVs_TOI4317.csv\")\n",
    "lik.add_data(time=sophdat['time'].values,rvs=sophdat['mnvel'].values,rv_errs=sophdat['errvel'].values,instr=\"Sophie\")\n",
    "cordat, name = tools.extract_rvfile(\"G75-21/TIC422914082_COR14_DRS-3-8.rdb\")\n",
    "lik.add_data(time=cordat['time'].values,rvs=cordat['mnvel'].values,rv_errs=cordat['errvel'].values,instr=\"Coralie\")\n",
    "harpsdat, name = tools.extract_rvfile(\"G75-21/TIC422914082_HARPS15_DRS-3-0-0.rdb\")\n",
    "lik.add_data(time=harpsdat['time'].values,rvs=harpsdat['mnvel'].values,rv_errs=harpsdat['errvel'].values,instr=\"HARPS\")\n",
    "harpsndat, name = tools.extract_rvfile(\"G75-21/TOI-4317_harpn_drs.rdb\")\n",
    "lik.add_data(time=harpsndat['time'].values,rvs=harpsndat['mnvel'].values,rv_errs=harpsndat['errvel'].values,instr=\"HARPSN\")"
   ]
  },
  {
   "cell_type": "markdown",
   "id": "9db16e91-5bf6-4de6-9050-2279b08fab7e",
   "metadata": {},
   "source": [
    "## Adding the planets to the model:\n",
    "\n",
    "Here, we split transiting and non-transiting planets, as the transit duration can tell us something about the planetary velocity (and therefore eccentricity). \n",
    "\n",
    "It is also necessary to specify exactly which parameters to hold fixed (using `fix_params`), and which ones to model (using `model_params`).\n",
    "\n",
    "For RV planets where we are modelling the period and tcen, we can specify the uncertainties in those parameters which are used as a uniform prior input. "
   ]
  },
  {
   "cell_type": "code",
   "execution_count": 5,
   "id": "ad8bf74d-9026-414c-bd17-cbc06a4c29a3",
   "metadata": {},
   "outputs": [],
   "source": [
    "#A transiting planet where we will fix the period and tc using our knowledge from the transits:\n",
    "lik.add_transiting_planet(plname='b', per=23.885495, tcen=2459148.11893, Rp_Rs=0.04098, tdur=0.17385, bmu=0.45536, bsigma=0.21804,\n",
    "                          model_params=['logk'], fix_params=['per','tc'], fit_circ=True)\n",
    "\n",
    "#An RV-only (i.e. non-transiting planet) where we will model the period and tc, but keep the orbit circular:\n",
    "lik.add_rv_planet(plname='c', per=34.8, tcen=2460331.3, e_per=0.1*34.8, e_tcen=0.55*34.8,\n",
    "                  model_params=['per','tc','logk'],fit_circ=True)"
   ]
  },
  {
   "cell_type": "markdown",
   "id": "0e8886a9-e073-43c5-9f7f-05b102e88896",
   "metadata": {},
   "source": [
    "### Getting ready to sample\n",
    "\n",
    "Once the model is ready, we need to initialise it:"
   ]
  },
  {
   "cell_type": "code",
   "execution_count": 6,
   "id": "d47a2816-e126-4007-a0f6-33424dd94c8b",
   "metadata": {},
   "outputs": [],
   "source": [
    "lik.init_model()"
   ]
  },
  {
   "cell_type": "markdown",
   "id": "8b7f322f-f08f-4ed2-82e1-feae8f327b31",
   "metadata": {},
   "source": [
    "#### Checking the model parameters using `lik.varpars`"
   ]
  },
  {
   "cell_type": "code",
   "execution_count": 7,
   "id": "a671375f-9767-4ccb-a284-7f8ee74d3bf5",
   "metadata": {},
   "outputs": [
    {
     "data": {
      "text/plain": [
       "{'logk_b': ['uniform', -0.15528426645013516, 3.4891064832413314],\n",
       " 'per_c': ['uniform', 31.319999999999997, 38.279999999999994],\n",
       " 'tc_c': ['uniform', 2460312.1599999997, 2460350.44],\n",
       " 'logk_c': ['uniform', -0.15528426645013516, 3.4891064832413314],\n",
       " 'logjitter_Coralie': ['norm', 2.977133636170986, 0.5],\n",
       " 'offset_Coralie': ['norm', 76761.342368, 15.80832409145571],\n",
       " 'logjitter_HARPS': ['norm', 1.3455331720426138, 0.5],\n",
       " 'offset_HARPS': ['norm', 76739.807222, 5.813102514069161],\n",
       " 'logjitter_HARPSN': ['norm', -0.05836344733929068, 0.5],\n",
       " 'offset_HARPSN': ['norm', 76765.9249587909, 5.923608416251665],\n",
       " 'logjitter_Sophie': ['norm', 2.1972245773362196, 0.5],\n",
       " 'offset_Sophie': ['norm', 76658.5, 8.481597726843686],\n",
       " 'polytrend': ['norm', 0.029384513044478155, 0.029400778254429445],\n",
       " 'polycurv': ['norm', 0.0, 0.02161014404915328]}"
      ]
     },
     "execution_count": 7,
     "metadata": {},
     "output_type": "execute_result"
    }
   ],
   "source": [
    "lik.varpars"
   ]
  },
  {
   "cell_type": "markdown",
   "id": "c0724d8c-65e8-40c7-a231-2b850a3305d6",
   "metadata": {},
   "source": [
    "## Initialising the Ultranest model\n",
    "\n",
    "We now need to give the ultranest sampling code data from the `lik` model:\n",
    "1) The variable names\n",
    "2) The lik model itself,\n",
    "3) A prior transform function which transforms unit 0->1 floats into each parameter via the desired prior\n",
    "4) The directory to store the outputs\n",
    "5) Whether to resume from a previous run (`resume=True`) or not (`resume=overwrite`)\n",
    "6) `vectorized=True` which speeds up sampling enormously\n",
    "7) The list of wrapped parameters, in our case the omega angles"
   ]
  },
  {
   "cell_type": "code",
   "execution_count": 8,
   "id": "ab798a86-57aa-424a-b366-96aae1a12529",
   "metadata": {},
   "outputs": [],
   "source": [
    "fixsampler = ultranest.ReactiveNestedSampler(lik.varnames, lik, RVultra.VectorPriorTransform(lik.varpars), \n",
    "                                             log_dir=lik.outfileloc, resume=True,vectorized=True,\n",
    "                                             wrapped_params=['w_' in par for par in lik.varnames])"
   ]
  },
  {
   "cell_type": "markdown",
   "id": "8bcaf7f2-da55-45fc-9d40-ff2f427306e9",
   "metadata": {},
   "source": [
    "## Running the sampler:"
   ]
  },
  {
   "cell_type": "code",
   "execution_count": 9,
   "id": "0ceeea21-eb93-4f89-bebd-be8b0b11bbf1",
   "metadata": {},
   "outputs": [
    {
     "name": "stdout",
     "output_type": "stream",
     "text": [
      "[ultranest] Resuming from 14436 stored points\n"
     ]
    },
    {
     "data": {
      "application/vnd.jupyter.widget-view+json": {
       "model_id": "4eff299a58d548248ce3af78a0f2827e",
       "version_major": 2,
       "version_minor": 0
      },
      "text/plain": [
       "VBox(children=(HTML(value=''), GridspecLayout(children=(HTML(value=\"<div style='background-color:#6E6BF4;'>&nb…"
      ]
     },
     "metadata": {},
     "output_type": "display_data"
    },
    {
     "name": "stdout",
     "output_type": "stream",
     "text": [
      "[ultranest] Explored until L=-2e+02  .37 [-186.1755..-186.1748]*| it/evals=13920/6426716 eff=inf% N=400    0   0  0 0 0 \n",
      "[ultranest] Likelihood function evaluations: 6426716\n",
      "[ultranest] Writing samples and results to disk ...\n",
      "[ultranest] Writing samples and results to disk ... done\n",
      "[ultranest]   logZ = -216 +- 0.1709\n",
      "[ultranest] Effective samples strategy satisfied (ESS = 4224.6, need >400)\n",
      "[ultranest] Posterior uncertainty strategy is satisfied (KL: 0.46+-0.05 nat, need <0.50 nat)\n",
      "[ultranest] Evidency uncertainty strategy wants 398 minimum live points (dlogz from 0.13 to 0.55, need <0.5)\n",
      "[ultranest]   logZ error budget: single: 0.25 bs:0.17 tail:0.01 total:0.17 required:<0.50\n",
      "[ultranest] done iterating.\n",
      "\n",
      "logZ = -215.990 +- 0.342\n",
      "  single instance: logZ = -215.990 +- 0.246\n",
      "  bootstrapped   : logZ = -216.018 +- 0.342\n",
      "  tail           : logZ = +- 0.010\n",
      "insert order U test : converged: True correlation: inf iterations\n",
      "\n",
      "    logk_b              : -0.16 │▁▁▁▁▂▂▂▂▂▂▂▃▃▄▃▄▅▅▅▇▆▆▇▇▇▆▅▄▄▃▂▁▁▁▁▁▁▁ │2.02      0.93 +- 0.39\n",
      "    per_c               : 31.3  │▁▁▁▁▁▁▁▁▁▁▁▁▁▁▁▂▄▅▇▇▆▄▂▂▁▁▁▁▁▁▁▁▁▁▁▁▁▁▁│38.3      34.7 +- 1.1\n",
      "    tc_c                : 2460312.2│▁▁▁▁▁▁▁▁▂▂▃▄▅▆▇▇▇▇▄▃▂▂▁▁▁▁▁▁▁▁▁▁▁▁▁▁▁▁▁│2460350.4    2460327.7 +- 5.4\n",
      "    logk_c              : -0.16 │▃▃▂▃▃▃▃▃▄▃▄▄▄▄▄▄▅▅▆▇▇▇▇▇▆▆▆▅▄▄▂▂▁▁▁▁▁▁ │2.08      0.88 +- 0.46\n",
      "    logjitter_Coralie   : 0.75  │ ▁▁▁▁▁▁▁▁▁▁▁▂▂▂▄▄▅▆▇▇▇▇▇▇▅▅▄▃▂▁▁▁▁▁▁▁▁ │3.88      2.48 +- 0.38\n",
      "    offset_Coralie      : 76721.9│ ▁▁▁▁▁▁▁▁▂▂▃▄▅▅▆▇▇▇▆▆▅▄▃▃▂▂▁▁▁▁▁▁▁▁▁ ▁ │76788.3    76752.2 +- 7.9\n",
      "    logjitter_HARPS     : -0.64 │ ▁▁ ▁▁▁▁▁▁▁▁▁▂▃▄▅▅▆▇▇▇▇▇▇▆▅▄▃▂▁▁▁▁▁ ▁▁ │2.93      1.31 +- 0.42\n",
      "    offset_HARPS        : 76731.2│ ▁ ▁▁▁▁▁▁▁▁▁▂▂▄▄▅▅▇▇▇▇▇▆▅▄▃▂▂▁▁▁▁▁▁▁ ▁ │76753.8    76743.0 +- 2.6\n",
      "    logjitter_HARPSN    : 1.13  │ ▁▁▁▁▁▁▁▂▃▃▄▅▆▆▇▇▇▇▇▅▅▄▄▃▂▂▁▁▁▁▁▁▁▁▁▁▁ │2.04      1.53 +- 0.12\n",
      "    offset_HARPSN       : 76756.7│ ▁ ▁▁▁▁▁▁▁▂▂▃▃▄▅▆▇▇▇▇▇▆▅▃▃▂▂▁▁▁▁▁▁▁▁▁▁ │76768.6    76762.6 +- 1.4\n",
      "    logjitter_Sophie    : 0.08  │ ▁▁▁▁▁▁▁▁▁▁▁▂▂▂▃▃▄▅▆▇▇▇▇▆▆▄▄▂▂▁▁▁▁▁▁▁▁ │3.17      1.78 +- 0.35\n",
      "    offset_Sophie       : 76641.5│ ▁▁ ▁▁▁▁▁▁▂▂▃▅▅▆▇▇▇▇▆▅▄▄▃▂▁▁▁▁▁▁▁▁▁ ▁▁ │76669.3    76654.4 +- 3.0\n",
      "    polytrend           : -0.0157│ ▁▁▁▁▁▁▁▁▁▁▂▂▃▄▅▆▆▇▇▇▇▇▆▅▄▃▃▂▂▁▁▁▁▁▁▁▁ │0.0217    0.0037 +- 0.0045\n",
      "    polycurv            : -0.000028│ ▁ ▁▁▁▁▁▁▁▁▁▂▃▄▅▅▆▇▇▇▇▆▅▄▃▃▂▂▁▁▁▁▁▁▁ ▁ │0.000072    0.000023 +- 0.000011\n",
      "\n"
     ]
    }
   ],
   "source": [
    "result = fixsampler.run()\n",
    "fixsampler.print_results()"
   ]
  },
  {
   "cell_type": "markdown",
   "id": "c747ca0c-2555-42a7-b4da-b416b00a50a6",
   "metadata": {},
   "source": [
    "## Creating plots from Ultranest:"
   ]
  },
  {
   "cell_type": "code",
   "execution_count": 10,
   "id": "e1d893cf-7b6a-4233-9b53-e645f7fec8e8",
   "metadata": {},
   "outputs": [],
   "source": [
    "fixsampler.plot_run()\n",
    "fixsampler.plot_trace()\n",
    "fixsampler.plot_corner()"
   ]
  },
  {
   "cell_type": "markdown",
   "id": "7e3ed8b2-2415-4fc6-80b4-71772727ff6e",
   "metadata": {},
   "source": [
    "## Creating plots from the RVs:"
   ]
  },
  {
   "cell_type": "code",
   "execution_count": 12,
   "id": "ba3da10e-75a8-4f18-818f-132c3a3eabd5",
   "metadata": {},
   "outputs": [
    {
     "data": {
      "image/png": "[encoded data removed]",
      "text/plain": [
       "<Figure size 640x480 with 4 Axes>"
      ]
     },
     "metadata": {},
     "output_type": "display_data"
    }
   ],
   "source": [
    "lik.plot(fixsampler.results['weighted_samples']['points'], fixsampler.results['weighted_samples']['weights'])"
   ]
  },
  {
   "cell_type": "markdown",
   "id": "2e58da4f-252d-4f8f-9b5c-f53afbd0ccf8",
   "metadata": {},
   "source": [
    "## Creating tables from the data"
   ]
  },
  {
   "cell_type": "code",
   "execution_count": 24,
   "id": "1a6c795d-5047-4059-8ecc-9606d029fefc",
   "metadata": {},
   "outputs": [
    {
     "data": {
      "text/html": [
       "<div>\n",
       "<style scoped>\n",
       "    .dataframe tbody tr th:only-of-type {\n",
       "        vertical-align: middle;\n",
       "    }\n",
       "\n",
       "    .dataframe tbody tr th {\n",
       "        vertical-align: top;\n",
       "    }\n",
       "\n",
       "    .dataframe thead th {\n",
       "        text-align: right;\n",
       "    }\n",
       "</style>\n",
       "<table border=\"1\" class=\"dataframe\">\n",
       "  <thead>\n",
       "    <tr style=\"text-align: right;\">\n",
       "      <th></th>\n",
       "      <th>mean</th>\n",
       "      <th>sd</th>\n",
       "      <th>-2sig</th>\n",
       "      <th>-1sig</th>\n",
       "      <th>med</th>\n",
       "      <th>+1sig</th>\n",
       "      <th>+2sig</th>\n",
       "      <th>+3sig</th>\n",
       "    </tr>\n",
       "  </thead>\n",
       "  <tbody>\n",
       "    <tr>\n",
       "      <th>logk_b</th>\n",
       "      <td>9.317443e-01</td>\n",
       "      <td>3.237467e-03</td>\n",
       "      <td>4.773932e-02</td>\n",
       "      <td>5.184436e-01</td>\n",
       "      <td>9.831982e-01</td>\n",
       "      <td>1.315329e+00</td>\n",
       "      <td>1.552772e+00</td>\n",
       "      <td>1.733784e+00</td>\n",
       "    </tr>\n",
       "    <tr>\n",
       "      <th>per_c</th>\n",
       "      <td>3.467814e+01</td>\n",
       "      <td>9.494188e-03</td>\n",
       "      <td>3.159948e+01</td>\n",
       "      <td>3.415468e+01</td>\n",
       "      <td>3.473808e+01</td>\n",
       "      <td>3.524312e+01</td>\n",
       "      <td>3.773976e+01</td>\n",
       "      <td>3.819294e+01</td>\n",
       "    </tr>\n",
       "    <tr>\n",
       "      <th>tc_c</th>\n",
       "      <td>2.460328e+06</td>\n",
       "      <td>4.495451e-02</td>\n",
       "      <td>2.460318e+06</td>\n",
       "      <td>2.460324e+06</td>\n",
       "      <td>2.460327e+06</td>\n",
       "      <td>2.460331e+06</td>\n",
       "      <td>2.460345e+06</td>\n",
       "      <td>2.460350e+06</td>\n",
       "    </tr>\n",
       "    <tr>\n",
       "      <th>logk_c</th>\n",
       "      <td>8.756643e-01</td>\n",
       "      <td>3.831121e-03</td>\n",
       "      <td>-7.095381e-02</td>\n",
       "      <td>3.282628e-01</td>\n",
       "      <td>9.588175e-01</td>\n",
       "      <td>1.343031e+00</td>\n",
       "      <td>1.599397e+00</td>\n",
       "      <td>1.753839e+00</td>\n",
       "    </tr>\n",
       "    <tr>\n",
       "      <th>logjitter_Coralie</th>\n",
       "      <td>2.476319e+00</td>\n",
       "      <td>3.183669e-03</td>\n",
       "      <td>1.670573e+00</td>\n",
       "      <td>2.099619e+00</td>\n",
       "      <td>2.484584e+00</td>\n",
       "      <td>2.856634e+00</td>\n",
       "      <td>3.209717e+00</td>\n",
       "      <td>3.488960e+00</td>\n",
       "    </tr>\n",
       "    <tr>\n",
       "      <th>offset_Coralie</th>\n",
       "      <td>7.675218e+04</td>\n",
       "      <td>6.597320e-02</td>\n",
       "      <td>7.673610e+04</td>\n",
       "      <td>7.674442e+04</td>\n",
       "      <td>7.675208e+04</td>\n",
       "      <td>7.676006e+04</td>\n",
       "      <td>7.676815e+04</td>\n",
       "      <td>7.677514e+04</td>\n",
       "    </tr>\n",
       "    <tr>\n",
       "      <th>logjitter_HARPS</th>\n",
       "      <td>1.314354e+00</td>\n",
       "      <td>3.534921e-03</td>\n",
       "      <td>4.078209e-01</td>\n",
       "      <td>8.921760e-01</td>\n",
       "      <td>1.327504e+00</td>\n",
       "      <td>1.736503e+00</td>\n",
       "      <td>2.102537e+00</td>\n",
       "      <td>2.390091e+00</td>\n",
       "    </tr>\n",
       "    <tr>\n",
       "      <th>offset_HARPS</th>\n",
       "      <td>7.674298e+04</td>\n",
       "      <td>2.138913e-02</td>\n",
       "      <td>7.673751e+04</td>\n",
       "      <td>7.674047e+04</td>\n",
       "      <td>7.674304e+04</td>\n",
       "      <td>7.674548e+04</td>\n",
       "      <td>7.674780e+04</td>\n",
       "      <td>7.674974e+04</td>\n",
       "    </tr>\n",
       "    <tr>\n",
       "      <th>logjitter_HARPSN</th>\n",
       "      <td>1.534722e+00</td>\n",
       "      <td>9.730398e-04</td>\n",
       "      <td>1.307538e+00</td>\n",
       "      <td>1.418750e+00</td>\n",
       "      <td>1.532332e+00</td>\n",
       "      <td>1.653826e+00</td>\n",
       "      <td>1.773126e+00</td>\n",
       "      <td>1.869976e+00</td>\n",
       "    </tr>\n",
       "    <tr>\n",
       "      <th>offset_HARPSN</th>\n",
       "      <td>7.676261e+04</td>\n",
       "      <td>1.184300e-02</td>\n",
       "      <td>7.675976e+04</td>\n",
       "      <td>7.676121e+04</td>\n",
       "      <td>7.676262e+04</td>\n",
       "      <td>7.676397e+04</td>\n",
       "      <td>7.676546e+04</td>\n",
       "      <td>7.676675e+04</td>\n",
       "    </tr>\n",
       "    <tr>\n",
       "      <th>logjitter_Sophie</th>\n",
       "      <td>1.780492e+00</td>\n",
       "      <td>2.954097e-03</td>\n",
       "      <td>1.016801e+00</td>\n",
       "      <td>1.436192e+00</td>\n",
       "      <td>1.800611e+00</td>\n",
       "      <td>2.124718e+00</td>\n",
       "      <td>2.432598e+00</td>\n",
       "      <td>2.698939e+00</td>\n",
       "    </tr>\n",
       "    <tr>\n",
       "      <th>offset_Sophie</th>\n",
       "      <td>7.665439e+04</td>\n",
       "      <td>2.494496e-02</td>\n",
       "      <td>7.664827e+04</td>\n",
       "      <td>7.665137e+04</td>\n",
       "      <td>7.665437e+04</td>\n",
       "      <td>7.665738e+04</td>\n",
       "      <td>7.666051e+04</td>\n",
       "      <td>7.666286e+04</td>\n",
       "    </tr>\n",
       "    <tr>\n",
       "      <th>polytrend</th>\n",
       "      <td>3.747058e-03</td>\n",
       "      <td>3.755705e-05</td>\n",
       "      <td>-5.195028e-03</td>\n",
       "      <td>-7.235657e-04</td>\n",
       "      <td>3.704093e-03</td>\n",
       "      <td>8.113821e-03</td>\n",
       "      <td>1.301351e-02</td>\n",
       "      <td>1.592980e-02</td>\n",
       "    </tr>\n",
       "    <tr>\n",
       "      <th>polycurv</th>\n",
       "      <td>2.277267e-05</td>\n",
       "      <td>9.569763e-08</td>\n",
       "      <td>-1.987441e-07</td>\n",
       "      <td>1.139949e-05</td>\n",
       "      <td>2.261796e-05</td>\n",
       "      <td>3.413656e-05</td>\n",
       "      <td>4.576992e-05</td>\n",
       "      <td>5.433345e-05</td>\n",
       "    </tr>\n",
       "    <tr>\n",
       "      <th>mpsini_b</th>\n",
       "      <td>1.012751e+01</td>\n",
       "      <td>3.007397e-02</td>\n",
       "      <td>3.901786e+00</td>\n",
       "      <td>6.247232e+00</td>\n",
       "      <td>9.943243e+00</td>\n",
       "      <td>1.386023e+01</td>\n",
       "      <td>1.757481e+01</td>\n",
       "      <td>2.106218e+01</td>\n",
       "    </tr>\n",
       "    <tr>\n",
       "      <th>mpsini_c</th>\n",
       "      <td>1.114649e+01</td>\n",
       "      <td>3.896981e-02</td>\n",
       "      <td>3.904443e+00</td>\n",
       "      <td>5.833682e+00</td>\n",
       "      <td>1.096998e+01</td>\n",
       "      <td>1.614796e+01</td>\n",
       "      <td>2.085538e+01</td>\n",
       "      <td>2.437135e+01</td>\n",
       "    </tr>\n",
       "    <tr>\n",
       "      <th>logEvidence</th>\n",
       "      <td>-2.159896e+02</td>\n",
       "      <td>3.421148e-01</td>\n",
       "      <td>NaN</td>\n",
       "      <td>NaN</td>\n",
       "      <td>NaN</td>\n",
       "      <td>NaN</td>\n",
       "      <td>NaN</td>\n",
       "      <td>NaN</td>\n",
       "    </tr>\n",
       "  </tbody>\n",
       "</table>\n",
       "</div>"
      ],
      "text/plain": [
       "                           mean            sd         -2sig         -1sig  \\\n",
       "logk_b             9.317443e-01  3.237467e-03  4.773932e-02  5.184436e-01   \n",
       "per_c              3.467814e+01  9.494188e-03  3.159948e+01  3.415468e+01   \n",
       "tc_c               2.460328e+06  4.495451e-02  2.460318e+06  2.460324e+06   \n",
       "logk_c             8.756643e-01  3.831121e-03 -7.095381e-02  3.282628e-01   \n",
       "logjitter_Coralie  2.476319e+00  3.183669e-03  1.670573e+00  2.099619e+00   \n",
       "offset_Coralie     7.675218e+04  6.597320e-02  7.673610e+04  7.674442e+04   \n",
       "logjitter_HARPS    1.314354e+00  3.534921e-03  4.078209e-01  8.921760e-01   \n",
       "offset_HARPS       7.674298e+04  2.138913e-02  7.673751e+04  7.674047e+04   \n",
       "logjitter_HARPSN   1.534722e+00  9.730398e-04  1.307538e+00  1.418750e+00   \n",
       "offset_HARPSN      7.676261e+04  1.184300e-02  7.675976e+04  7.676121e+04   \n",
       "logjitter_Sophie   1.780492e+00  2.954097e-03  1.016801e+00  1.436192e+00   \n",
       "offset_Sophie      7.665439e+04  2.494496e-02  7.664827e+04  7.665137e+04   \n",
       "polytrend          3.747058e-03  3.755705e-05 -5.195028e-03 -7.235657e-04   \n",
       "polycurv           2.277267e-05  9.569763e-08 -1.987441e-07  1.139949e-05   \n",
       "mpsini_b           1.012751e+01  3.007397e-02  3.901786e+00  6.247232e+00   \n",
       "mpsini_c           1.114649e+01  3.896981e-02  3.904443e+00  5.833682e+00   \n",
       "logEvidence       -2.159896e+02  3.421148e-01           NaN           NaN   \n",
       "\n",
       "                            med         +1sig         +2sig         +3sig  \n",
       "logk_b             9.831982e-01  1.315329e+00  1.552772e+00  1.733784e+00  \n",
       "per_c              3.473808e+01  3.524312e+01  3.773976e+01  3.819294e+01  \n",
       "tc_c               2.460327e+06  2.460331e+06  2.460345e+06  2.460350e+06  \n",
       "logk_c             9.588175e-01  1.343031e+00  1.599397e+00  1.753839e+00  \n",
       "logjitter_Coralie  2.484584e+00  2.856634e+00  3.209717e+00  3.488960e+00  \n",
       "offset_Coralie     7.675208e+04  7.676006e+04  7.676815e+04  7.677514e+04  \n",
       "logjitter_HARPS    1.327504e+00  1.736503e+00  2.102537e+00  2.390091e+00  \n",
       "offset_HARPS       7.674304e+04  7.674548e+04  7.674780e+04  7.674974e+04  \n",
       "logjitter_HARPSN   1.532332e+00  1.653826e+00  1.773126e+00  1.869976e+00  \n",
       "offset_HARPSN      7.676262e+04  7.676397e+04  7.676546e+04  7.676675e+04  \n",
       "logjitter_Sophie   1.800611e+00  2.124718e+00  2.432598e+00  2.698939e+00  \n",
       "offset_Sophie      7.665437e+04  7.665738e+04  7.666051e+04  7.666286e+04  \n",
       "polytrend          3.704093e-03  8.113821e-03  1.301351e-02  1.592980e-02  \n",
       "polycurv           2.261796e-05  3.413656e-05  4.576992e-05  5.433345e-05  \n",
       "mpsini_b           9.943243e+00  1.386023e+01  1.757481e+01  2.106218e+01  \n",
       "mpsini_c           1.096998e+01  1.614796e+01  2.085538e+01  2.437135e+01  \n",
       "logEvidence                 NaN           NaN           NaN           NaN  "
      ]
     },
     "execution_count": 24,
     "metadata": {},
     "output_type": "execute_result"
    }
   ],
   "source": [
    "model_summary = lik.create_output_dict(fixsampler.results)\n",
    "model_summary"
   ]
  },
  {
   "cell_type": "markdown",
   "id": "5da4d4cd-4c2b-4068-afdb-3b74ffba29c7",
   "metadata": {},
   "source": [
    "## Comparing to a no-planet model:"
   ]
  },
  {
   "cell_type": "code",
   "execution_count": 30,
   "id": "81ef911d-5aee-4eab-8a6e-b8f1d41bc56e",
   "metadata": {},
   "outputs": [
    {
     "data": {
      "text/plain": [
       "'/Users/hugh/python/RVultra/RVultra/RVultra.py/G75-21_noplanets'"
      ]
     },
     "execution_count": 30,
     "metadata": {},
     "output_type": "execute_result"
    }
   ],
   "source": [
    "flatlik.outfileloc"
   ]
  },
  {
   "cell_type": "code",
   "execution_count": 31,
   "id": "19d4896f-89b2-4ac2-984e-c95b9f799163",
   "metadata": {},
   "outputs": [
    {
     "name": "stdout",
     "output_type": "stream",
     "text": [
      "[ultranest] Sampling 400 live points from prior ...\n"
     ]
    },
    {
     "data": {
      "application/vnd.jupyter.widget-view+json": {
       "model_id": "c7ffaa56c1824a2fb5825923aaaea17a",
       "version_major": 2,
       "version_minor": 0
      },
      "text/plain": [
       "VBox(children=(HTML(value=''), GridspecLayout(children=(HTML(value=\"<div style='background-color:#6E6BF4;'>&nb…"
      ]
     },
     "metadata": {},
     "output_type": "display_data"
    },
    {
     "name": "stdout",
     "output_type": "stream",
     "text": [
      "[ultranest] Explored until L=-2e+02  .37 [-194.5070..-194.5055]*| it/evals=11700/183116 eff=6.4034% N=400   0   0  0 0  \n",
      "[ultranest] Likelihood function evaluations: 183466\n",
      "[ultranest] Writing samples and results to disk ...\n",
      "[ultranest] Writing samples and results to disk ... done\n",
      "[ultranest]   logZ = -218.9 +- 0.1348\n",
      "[ultranest] Effective samples strategy satisfied (ESS = 3212.6, need >400)\n",
      "[ultranest] Posterior uncertainty strategy is satisfied (KL: 0.46+-0.06 nat, need <0.50 nat)\n",
      "[ultranest] Evidency uncertainty strategy is satisfied (dlogz=0.14, need <0.5)\n",
      "[ultranest]   logZ error budget: single: 0.23 bs:0.13 tail:0.01 total:0.14 required:<0.50\n",
      "[ultranest] done iterating.\n"
     ]
    },
    {
     "ename": "TypeError",
     "evalue": "create_output_dict() missing 1 required positional argument: 'result'",
     "output_type": "error",
     "traceback": [
      "\u001b[0;31m---------------------------------------------------------------------------\u001b[0m",
      "\u001b[0;31mTypeError\u001b[0m                                 Traceback (most recent call last)",
      "Cell \u001b[0;32mIn[31], line 9\u001b[0m\n\u001b[1;32m      5\u001b[0m flatsampler \u001b[38;5;241m=\u001b[39m ultranest\u001b[38;5;241m.\u001b[39mReactiveNestedSampler(\u001b[38;5;28mlist\u001b[39m(flatvarpars\u001b[38;5;241m.\u001b[39mkeys()), flatlik, RVultra\u001b[38;5;241m.\u001b[39mVectorPriorTransform(flatvarpars), \n\u001b[1;32m      6\u001b[0m                                             log_dir\u001b[38;5;241m=\u001b[39mflatlik\u001b[38;5;241m.\u001b[39moutfileloc,\n\u001b[1;32m      7\u001b[0m                                             resume\u001b[38;5;241m=\u001b[39m\u001b[38;5;28;01mTrue\u001b[39;00m, vectorized\u001b[38;5;241m=\u001b[39m\u001b[38;5;28;01mTrue\u001b[39;00m)\n\u001b[1;32m      8\u001b[0m flatresult \u001b[38;5;241m=\u001b[39m flatsampler\u001b[38;5;241m.\u001b[39mrun()\n\u001b[0;32m----> 9\u001b[0m flat_summary \u001b[38;5;241m=\u001b[39m \u001b[43mflatlik\u001b[49m\u001b[38;5;241;43m.\u001b[39;49m\u001b[43mcreate_output_dict\u001b[49m\u001b[43m(\u001b[49m\u001b[43m)\u001b[49m\n",
      "\u001b[0;31mTypeError\u001b[0m: create_output_dict() missing 1 required positional argument: 'result'"
     ]
    }
   ],
   "source": [
    "flatvarpars={vpk:lik.varpars[vpk] for vpk in lik.varpars if vpk[:4] in ['poly','jitt','logj','offs']}#Taking only the non-planetary variables\n",
    "#Copying the parameters from our with-planet model:\n",
    "flatlik=RVultra.Vector_FlatLikelihood(name=\"G 75-21\", data=lik.data, varnames=list(flatvarpars.keys()), \n",
    "                              jitprior=lik.kprior, fit_curv=lik.fit_curv)\n",
    "flatsampler = ultranest.ReactiveNestedSampler(list(flatvarpars.keys()), flatlik, RVultra.VectorPriorTransform(flatvarpars), \n",
    "                                            log_dir=flatlik.outfileloc,\n",
    "                                            resume=True, vectorized=True)\n",
    "flatresult = flatsampler.run()"
   ]
  },
  {
   "cell_type": "code",
   "execution_count": 33,
   "id": "c5924710-f58a-4afd-8208-8180db44b7b2",
   "metadata": {},
   "outputs": [
    {
     "data": {
      "text/html": [
       "<div>\n",
       "<style scoped>\n",
       "    .dataframe tbody tr th:only-of-type {\n",
       "        vertical-align: middle;\n",
       "    }\n",
       "\n",
       "    .dataframe tbody tr th {\n",
       "        vertical-align: top;\n",
       "    }\n",
       "\n",
       "    .dataframe thead th {\n",
       "        text-align: right;\n",
       "    }\n",
       "</style>\n",
       "<table border=\"1\" class=\"dataframe\">\n",
       "  <thead>\n",
       "    <tr style=\"text-align: right;\">\n",
       "      <th></th>\n",
       "      <th>mean</th>\n",
       "      <th>sd</th>\n",
       "      <th>-2sig</th>\n",
       "      <th>-1sig</th>\n",
       "      <th>med</th>\n",
       "      <th>+1sig</th>\n",
       "      <th>+2sig</th>\n",
       "      <th>+3sig</th>\n",
       "    </tr>\n",
       "  </thead>\n",
       "  <tbody>\n",
       "    <tr>\n",
       "      <th>logjitter_Coralie</th>\n",
       "      <td>2.485752</td>\n",
       "      <td>3.443993e-03</td>\n",
       "      <td>1.712883e+00</td>\n",
       "      <td>2.110348</td>\n",
       "      <td>2.494974</td>\n",
       "      <td>2.864533</td>\n",
       "      <td>3.208108</td>\n",
       "      <td>3.465285</td>\n",
       "    </tr>\n",
       "    <tr>\n",
       "      <th>offset_Coralie</th>\n",
       "      <td>76752.504874</td>\n",
       "      <td>7.222108e-02</td>\n",
       "      <td>7.673679e+04</td>\n",
       "      <td>76744.757593</td>\n",
       "      <td>76752.419935</td>\n",
       "      <td>76760.349006</td>\n",
       "      <td>76768.713420</td>\n",
       "      <td>76774.901330</td>\n",
       "    </tr>\n",
       "    <tr>\n",
       "      <th>logjitter_HARPS</th>\n",
       "      <td>1.428207</td>\n",
       "      <td>3.614187e-03</td>\n",
       "      <td>5.693907e-01</td>\n",
       "      <td>1.047351</td>\n",
       "      <td>1.443932</td>\n",
       "      <td>1.817452</td>\n",
       "      <td>2.171254</td>\n",
       "      <td>2.432015</td>\n",
       "    </tr>\n",
       "    <tr>\n",
       "      <th>offset_HARPS</th>\n",
       "      <td>76741.831079</td>\n",
       "      <td>2.242365e-02</td>\n",
       "      <td>7.673648e+04</td>\n",
       "      <td>76739.504666</td>\n",
       "      <td>76741.912814</td>\n",
       "      <td>76744.246831</td>\n",
       "      <td>76746.546623</td>\n",
       "      <td>76748.685267</td>\n",
       "    </tr>\n",
       "    <tr>\n",
       "      <th>logjitter_HARPSN</th>\n",
       "      <td>1.668870</td>\n",
       "      <td>9.596779e-04</td>\n",
       "      <td>1.467347e+00</td>\n",
       "      <td>1.564201</td>\n",
       "      <td>1.664816</td>\n",
       "      <td>1.772684</td>\n",
       "      <td>1.888604</td>\n",
       "      <td>1.984518</td>\n",
       "    </tr>\n",
       "    <tr>\n",
       "      <th>offset_HARPSN</th>\n",
       "      <td>76762.685815</td>\n",
       "      <td>1.343176e-02</td>\n",
       "      <td>7.675957e+04</td>\n",
       "      <td>76761.237912</td>\n",
       "      <td>76762.706719</td>\n",
       "      <td>76764.117697</td>\n",
       "      <td>76765.557820</td>\n",
       "      <td>76766.730025</td>\n",
       "    </tr>\n",
       "    <tr>\n",
       "      <th>logjitter_Sophie</th>\n",
       "      <td>1.767049</td>\n",
       "      <td>3.306162e-03</td>\n",
       "      <td>9.697590e-01</td>\n",
       "      <td>1.412937</td>\n",
       "      <td>1.787829</td>\n",
       "      <td>2.121716</td>\n",
       "      <td>2.446793</td>\n",
       "      <td>2.639647</td>\n",
       "    </tr>\n",
       "    <tr>\n",
       "      <th>offset_Sophie</th>\n",
       "      <td>76655.097767</td>\n",
       "      <td>2.631393e-02</td>\n",
       "      <td>7.664937e+04</td>\n",
       "      <td>76652.233674</td>\n",
       "      <td>76655.104765</td>\n",
       "      <td>76657.995421</td>\n",
       "      <td>76660.966766</td>\n",
       "      <td>76663.371046</td>\n",
       "    </tr>\n",
       "    <tr>\n",
       "      <th>polytrend</th>\n",
       "      <td>0.003435</td>\n",
       "      <td>4.156345e-05</td>\n",
       "      <td>-5.485733e-03</td>\n",
       "      <td>-0.001211</td>\n",
       "      <td>0.003396</td>\n",
       "      <td>0.007987</td>\n",
       "      <td>0.012826</td>\n",
       "      <td>0.017431</td>\n",
       "    </tr>\n",
       "    <tr>\n",
       "      <th>polycurv</th>\n",
       "      <td>0.000021</td>\n",
       "      <td>1.026148e-07</td>\n",
       "      <td>-3.414862e-07</td>\n",
       "      <td>0.000010</td>\n",
       "      <td>0.000021</td>\n",
       "      <td>0.000033</td>\n",
       "      <td>0.000044</td>\n",
       "      <td>0.000053</td>\n",
       "    </tr>\n",
       "    <tr>\n",
       "      <th>logEvidence</th>\n",
       "      <td>-218.878499</td>\n",
       "      <td>3.090447e-01</td>\n",
       "      <td>NaN</td>\n",
       "      <td>NaN</td>\n",
       "      <td>NaN</td>\n",
       "      <td>NaN</td>\n",
       "      <td>NaN</td>\n",
       "      <td>NaN</td>\n",
       "    </tr>\n",
       "  </tbody>\n",
       "</table>\n",
       "</div>"
      ],
      "text/plain": [
       "                           mean            sd         -2sig         -1sig  \\\n",
       "logjitter_Coralie      2.485752  3.443993e-03  1.712883e+00      2.110348   \n",
       "offset_Coralie     76752.504874  7.222108e-02  7.673679e+04  76744.757593   \n",
       "logjitter_HARPS        1.428207  3.614187e-03  5.693907e-01      1.047351   \n",
       "offset_HARPS       76741.831079  2.242365e-02  7.673648e+04  76739.504666   \n",
       "logjitter_HARPSN       1.668870  9.596779e-04  1.467347e+00      1.564201   \n",
       "offset_HARPSN      76762.685815  1.343176e-02  7.675957e+04  76761.237912   \n",
       "logjitter_Sophie       1.767049  3.306162e-03  9.697590e-01      1.412937   \n",
       "offset_Sophie      76655.097767  2.631393e-02  7.664937e+04  76652.233674   \n",
       "polytrend              0.003435  4.156345e-05 -5.485733e-03     -0.001211   \n",
       "polycurv               0.000021  1.026148e-07 -3.414862e-07      0.000010   \n",
       "logEvidence         -218.878499  3.090447e-01           NaN           NaN   \n",
       "\n",
       "                            med         +1sig         +2sig         +3sig  \n",
       "logjitter_Coralie      2.494974      2.864533      3.208108      3.465285  \n",
       "offset_Coralie     76752.419935  76760.349006  76768.713420  76774.901330  \n",
       "logjitter_HARPS        1.443932      1.817452      2.171254      2.432015  \n",
       "offset_HARPS       76741.912814  76744.246831  76746.546623  76748.685267  \n",
       "logjitter_HARPSN       1.664816      1.772684      1.888604      1.984518  \n",
       "offset_HARPSN      76762.706719  76764.117697  76765.557820  76766.730025  \n",
       "logjitter_Sophie       1.787829      2.121716      2.446793      2.639647  \n",
       "offset_Sophie      76655.104765  76657.995421  76660.966766  76663.371046  \n",
       "polytrend              0.003396      0.007987      0.012826      0.017431  \n",
       "polycurv               0.000021      0.000033      0.000044      0.000053  \n",
       "logEvidence                 NaN           NaN           NaN           NaN  "
      ]
     },
     "execution_count": 33,
     "metadata": {},
     "output_type": "execute_result"
    }
   ],
   "source": [
    "flat_summary = flatlik.summarise_results(flatresult)\n",
    "flat_summary"
   ]
  },
  {
   "cell_type": "markdown",
   "id": "c09a90ac-1ce8-43a2-98fc-a50741108a35",
   "metadata": {},
   "source": [
    "## Model comparison between them:\n",
    "\n",
    "In this case, a large (>5) positive Bayesian log Evidence shows that the planet model is favoured:"
   ]
  },
  {
   "cell_type": "code",
   "execution_count": 37,
   "id": "ed7a6abe-24f6-4364-895a-445eff228bd0",
   "metadata": {},
   "outputs": [
    {
     "name": "stdout",
     "output_type": "stream",
     "text": [
      "Difference in Bayesian log Evidence is 2.89\n",
      "Planet model is 17.97 times more probable.\n"
     ]
    }
   ],
   "source": [
    "print(\"Difference in Bayesian log Evidence is {:.2f}\".format(model_summary.loc['logEvidence','mean']-flat_summary.loc['logEvidence','mean']))\n",
    "print(\"Planet model is {:.2f} times more probable.\".format(np.exp(model_summary.loc['logEvidence','mean']-flat_summary.loc['logEvidence','mean'])))"
   ]
  }
 ],
 "metadata": {
  "kernelspec": {
   "display_name": "Python 3 (ipykernel)",
   "language": "python",
   "name": "python3"
  },
  "language_info": {
   "codemirror_mode": {
    "name": "ipython",
    "version": 3
   },
   "file_extension": ".py",
   "mimetype": "text/x-python",
   "name": "python",
   "nbconvert_exporter": "python",
   "pygments_lexer": "ipython3",
   "version": "3.9.18"
  }
 },
 "nbformat": 4,
 "nbformat_minor": 5
}
